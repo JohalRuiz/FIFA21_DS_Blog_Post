{
 "cells": [
  {
   "cell_type": "code",
   "execution_count": 19,
   "metadata": {},
   "outputs": [],
   "source": [
    "import numpy as np\n",
    "import pandas as pd\n",
    "\n",
    "import matplotlib.pyplot as plt\n",
    "import seaborn as sns"
   ]
  },
  {
   "cell_type": "code",
   "execution_count": 20,
   "metadata": {},
   "outputs": [
    {
     "name": "stderr",
     "output_type": "stream",
     "text": [
      "C:\\Users\\ralat\\Anaconda3\\lib\\site-packages\\IPython\\core\\interactiveshell.py:2785: DtypeWarning: Columns (78) have mixed types. Specify dtype option on import or set low_memory=False.\n",
      "  interactivity=interactivity, compiler=compiler, result=result)\n"
     ]
    }
   ],
   "source": [
    "''' Create a DataFrame from CSV File'''\n",
    "\n",
    "df = pd.read_csv('fifa21_male2.csv')"
   ]
  },
  {
   "cell_type": "code",
   "execution_count": 40,
   "metadata": {},
   "outputs": [],
   "source": [
    "''' Sort the Players by Overall Score and No of Hits '''\n",
    "\n",
    "best_players = df.sort_values(['OVA', 'Hits'],ascending=[False, False]).head(100)\n",
    "\n",
    "selected = best_players[['Name', 'OVA', 'Hits']]\n",
    "selected.head(3)\n",
    "\n",
    "top3 = [['L. Messi', 93, 830], ['Cristiano Ronaldo', 92, 750], ['Neymar Jr', 91, 546]]\n",
    "top3df = pd.DataFrame(top3, columns=[\"Name\",\"OVA\",\"Hits\"])"
   ]
  },
  {
   "cell_type": "code",
   "execution_count": 79,
   "metadata": {},
   "outputs": [
    {
     "data": {
      "image/png": "[encoded data removed]",
      "text/plain": [
       "<Figure size 432x288 with 1 Axes>"
      ]
     },
     "metadata": {
      "needs_background": "light"
     },
     "output_type": "display_data"
    }
   ],
   "source": [
    "''' Plot a Bar Chart for the Top 3 Plyers and Show their Overall Score and No of Hits'''\n",
    "\n",
    "top3df.plot(x=\"Name\", y=[\"OVA\", \"Hits\"], kind=\"bar\",);"
   ]
  },
  {
   "cell_type": "code",
   "execution_count": 48,
   "metadata": {},
   "outputs": [
    {
     "data": {
      "text/html": [
       "<div>\n",
       "<style scoped>\n",
       "    .dataframe tbody tr th:only-of-type {\n",
       "        vertical-align: middle;\n",
       "    }\n",
       "\n",
       "    .dataframe tbody tr th {\n",
       "        vertical-align: top;\n",
       "    }\n",
       "\n",
       "    .dataframe thead th {\n",
       "        text-align: right;\n",
       "    }\n",
       "</style>\n",
       "<table border=\"1\" class=\"dataframe\">\n",
       "  <thead>\n",
       "    <tr style=\"text-align: right;\">\n",
       "      <th></th>\n",
       "      <th>Name</th>\n",
       "      <th>Sprint Speed</th>\n",
       "    </tr>\n",
       "  </thead>\n",
       "  <tbody>\n",
       "    <tr>\n",
       "      <th>10690</th>\n",
       "      <td>A. Chalá</td>\n",
       "      <td>96</td>\n",
       "    </tr>\n",
       "    <tr>\n",
       "      <th>9975</th>\n",
       "      <td>A. Davies</td>\n",
       "      <td>96</td>\n",
       "    </tr>\n",
       "    <tr>\n",
       "      <th>5996</th>\n",
       "      <td>Adama Traoré</td>\n",
       "      <td>96</td>\n",
       "    </tr>\n",
       "    <tr>\n",
       "      <th>9331</th>\n",
       "      <td>K. Mbappé</td>\n",
       "      <td>96</td>\n",
       "    </tr>\n",
       "    <tr>\n",
       "      <th>10202</th>\n",
       "      <td>A. Hakimi</td>\n",
       "      <td>95</td>\n",
       "    </tr>\n",
       "    <tr>\n",
       "      <th>8796</th>\n",
       "      <td>L. Bailey</td>\n",
       "      <td>95</td>\n",
       "    </tr>\n",
       "    <tr>\n",
       "      <th>11071</th>\n",
       "      <td>K. Diatta</td>\n",
       "      <td>95</td>\n",
       "    </tr>\n",
       "    <tr>\n",
       "      <th>11207</th>\n",
       "      <td>Vinícius Jr.</td>\n",
       "      <td>95</td>\n",
       "    </tr>\n",
       "    <tr>\n",
       "      <th>7226</th>\n",
       "      <td>L. Sané</td>\n",
       "      <td>95</td>\n",
       "    </tr>\n",
       "    <tr>\n",
       "      <th>4911</th>\n",
       "      <td>Kim In Seong</td>\n",
       "      <td>95</td>\n",
       "    </tr>\n",
       "  </tbody>\n",
       "</table>\n",
       "</div>"
      ],
      "text/plain": [
       "               Name  Sprint Speed\n",
       "10690      A. Chalá            96\n",
       "9975      A. Davies            96\n",
       "5996   Adama Traoré            96\n",
       "9331      K. Mbappé            96\n",
       "10202     A. Hakimi            95\n",
       "8796      L. Bailey            95\n",
       "11071     K. Diatta            95\n",
       "11207  Vinícius Jr.            95\n",
       "7226        L. Sané            95\n",
       "4911   Kim In Seong            95"
      ]
     },
     "execution_count": 48,
     "metadata": {},
     "output_type": "execute_result"
    }
   ],
   "source": [
    "''' \n",
    "    Find the fastest players\n",
    "    This part was not added to the blog post because there is no noticable difference in speed between players\n",
    "'''\n",
    "\n",
    "fastest_players = df.sort_values('Sprint Speed',ascending=False).head(100)\n",
    "\n",
    "selected = fastest_players[['Name', 'Sprint Speed']]\n",
    "# selected[\"Hits\"] = pd.to_numeric(selected[\"Hits\"])\n",
    "\n",
    "selected.head(10)\n",
    "\n",
    "# top3 = [['L. Messi', 93, 830], ['Cristiano Ronaldo', 92, 750], ['Neymar Jr', 91, 546]]\n",
    "# top3df = pd.DataFrame(top3, columns=[\"Name\",\"OVA\",\"Hits\"])"
   ]
  },
  {
   "cell_type": "code",
   "execution_count": 81,
   "metadata": {},
   "outputs": [
    {
     "name": "stdout",
     "output_type": "stream",
     "text": [
      "There are 167 different Nationalities in FIFA 2021!\n"
     ]
    },
    {
     "data": {
      "image/png": "[encoded data removed]",
      "text/plain": [
       "<Figure size 432x288 with 1 Axes>"
      ]
     },
     "metadata": {
      "needs_background": "light"
     },
     "output_type": "display_data"
    }
   ],
   "source": [
    "''' Which Countries do FIFA Players come from?  '''\n",
    "\n",
    "nationality_vals = df['Nationality'].value_counts() #Provide a pandas series of the counts for each Nationality status\n",
    "print('There are {} different Nationalities in FIFA 2021!'.format(nationality_vals.count()))\n",
    "\n",
    "# The below should be a bar chart of the 10 largest population in the Nationality category \n",
    "(nationality_vals.nlargest(10)).plot(kind=\"bar\");\n",
    "plt.title(\"Where FIFA players come from?\");\n",
    "# print(nationality_vals)"
   ]
  },
  {
   "cell_type": "code",
   "execution_count": 83,
   "metadata": {},
   "outputs": [
    {
     "data": {
      "text/html": [
       "<div>\n",
       "<style scoped>\n",
       "    .dataframe tbody tr th:only-of-type {\n",
       "        vertical-align: middle;\n",
       "    }\n",
       "\n",
       "    .dataframe tbody tr th {\n",
       "        vertical-align: top;\n",
       "    }\n",
       "\n",
       "    .dataframe thead th {\n",
       "        text-align: right;\n",
       "    }\n",
       "</style>\n",
       "<table border=\"1\" class=\"dataframe\">\n",
       "  <thead>\n",
       "    <tr style=\"text-align: right;\">\n",
       "      <th></th>\n",
       "      <th>ID</th>\n",
       "      <th>Name</th>\n",
       "      <th>Age</th>\n",
       "      <th>OVA</th>\n",
       "      <th>Nationality</th>\n",
       "      <th>Club</th>\n",
       "      <th>BOV</th>\n",
       "      <th>BP</th>\n",
       "      <th>Position</th>\n",
       "      <th>Player Photo</th>\n",
       "      <th>...</th>\n",
       "      <th>CDM</th>\n",
       "      <th>RDM</th>\n",
       "      <th>RWB</th>\n",
       "      <th>LB</th>\n",
       "      <th>LCB</th>\n",
       "      <th>CB</th>\n",
       "      <th>RCB</th>\n",
       "      <th>RB</th>\n",
       "      <th>GK</th>\n",
       "      <th>Gender</th>\n",
       "    </tr>\n",
       "  </thead>\n",
       "  <tbody>\n",
       "    <tr>\n",
       "      <th>752</th>\n",
       "      <td>158023</td>\n",
       "      <td>L. Messi</td>\n",
       "      <td>33</td>\n",
       "      <td>93</td>\n",
       "      <td>Argentina</td>\n",
       "      <td>FC Barcelona</td>\n",
       "      <td>93</td>\n",
       "      <td>RW</td>\n",
       "      <td>RW ST CF</td>\n",
       "      <td>https://cdn.sofifa.com/players/158/023/20_120.png</td>\n",
       "      <td>...</td>\n",
       "      <td>65+3</td>\n",
       "      <td>65+3</td>\n",
       "      <td>66+3</td>\n",
       "      <td>62+3</td>\n",
       "      <td>52+3</td>\n",
       "      <td>52+3</td>\n",
       "      <td>52+3</td>\n",
       "      <td>62+3</td>\n",
       "      <td>19+3</td>\n",
       "      <td>Male</td>\n",
       "    </tr>\n",
       "    <tr>\n",
       "      <th>142</th>\n",
       "      <td>20801</td>\n",
       "      <td>Cristiano Ronaldo</td>\n",
       "      <td>35</td>\n",
       "      <td>92</td>\n",
       "      <td>Portugal</td>\n",
       "      <td>Juventus</td>\n",
       "      <td>92</td>\n",
       "      <td>ST</td>\n",
       "      <td>ST LW</td>\n",
       "      <td>https://cdn.sofifa.com/players/020/801/20_120.png</td>\n",
       "      <td>...</td>\n",
       "      <td>61+3</td>\n",
       "      <td>61+3</td>\n",
       "      <td>65+3</td>\n",
       "      <td>61+3</td>\n",
       "      <td>54+3</td>\n",
       "      <td>54+3</td>\n",
       "      <td>54+3</td>\n",
       "      <td>61+3</td>\n",
       "      <td>20+3</td>\n",
       "      <td>Male</td>\n",
       "    </tr>\n",
       "    <tr>\n",
       "      <th>2871</th>\n",
       "      <td>192985</td>\n",
       "      <td>K. De Bruyne</td>\n",
       "      <td>29</td>\n",
       "      <td>91</td>\n",
       "      <td>Belgium</td>\n",
       "      <td>Manchester City</td>\n",
       "      <td>91</td>\n",
       "      <td>CAM</td>\n",
       "      <td>CAM CM</td>\n",
       "      <td>https://cdn.sofifa.com/players/192/985/20_120.png</td>\n",
       "      <td>...</td>\n",
       "      <td>80+3</td>\n",
       "      <td>80+3</td>\n",
       "      <td>79+3</td>\n",
       "      <td>75+3</td>\n",
       "      <td>69+3</td>\n",
       "      <td>69+3</td>\n",
       "      <td>69+3</td>\n",
       "      <td>75+3</td>\n",
       "      <td>21+3</td>\n",
       "      <td>Male</td>\n",
       "    </tr>\n",
       "    <tr>\n",
       "      <th>2287</th>\n",
       "      <td>188545</td>\n",
       "      <td>R. Lewandowski</td>\n",
       "      <td>31</td>\n",
       "      <td>91</td>\n",
       "      <td>Poland</td>\n",
       "      <td>FC Bayern München</td>\n",
       "      <td>91</td>\n",
       "      <td>ST</td>\n",
       "      <td>ST</td>\n",
       "      <td>https://cdn.sofifa.com/players/188/545/20_120.png</td>\n",
       "      <td>...</td>\n",
       "      <td>65+3</td>\n",
       "      <td>65+3</td>\n",
       "      <td>64+3</td>\n",
       "      <td>61+3</td>\n",
       "      <td>60+3</td>\n",
       "      <td>60+3</td>\n",
       "      <td>60+3</td>\n",
       "      <td>61+3</td>\n",
       "      <td>19+3</td>\n",
       "      <td>Male</td>\n",
       "    </tr>\n",
       "    <tr>\n",
       "      <th>2650</th>\n",
       "      <td>190871</td>\n",
       "      <td>Neymar Jr</td>\n",
       "      <td>28</td>\n",
       "      <td>91</td>\n",
       "      <td>Brazil</td>\n",
       "      <td>Paris Saint-Germain</td>\n",
       "      <td>91</td>\n",
       "      <td>LW</td>\n",
       "      <td>LW CAM</td>\n",
       "      <td>https://cdn.sofifa.com/players/190/871/20_120.png</td>\n",
       "      <td>...</td>\n",
       "      <td>62+3</td>\n",
       "      <td>62+3</td>\n",
       "      <td>67+3</td>\n",
       "      <td>62+3</td>\n",
       "      <td>49+3</td>\n",
       "      <td>49+3</td>\n",
       "      <td>49+3</td>\n",
       "      <td>62+3</td>\n",
       "      <td>20+3</td>\n",
       "      <td>Male</td>\n",
       "    </tr>\n",
       "  </tbody>\n",
       "</table>\n",
       "<p>5 rows × 107 columns</p>\n",
       "</div>"
      ],
      "text/plain": [
       "          ID               Name  Age  OVA Nationality                 Club  \\\n",
       "752   158023           L. Messi   33   93   Argentina         FC Barcelona   \n",
       "142    20801  Cristiano Ronaldo   35   92    Portugal             Juventus   \n",
       "2871  192985       K. De Bruyne   29   91     Belgium      Manchester City   \n",
       "2287  188545     R. Lewandowski   31   91      Poland    FC Bayern München   \n",
       "2650  190871          Neymar Jr   28   91      Brazil  Paris Saint-Germain   \n",
       "\n",
       "      BOV   BP  Position                                       Player Photo  \\\n",
       "752    93   RW  RW ST CF  https://cdn.sofifa.com/players/158/023/20_120.png   \n",
       "142    92   ST     ST LW  https://cdn.sofifa.com/players/020/801/20_120.png   \n",
       "2871   91  CAM    CAM CM  https://cdn.sofifa.com/players/192/985/20_120.png   \n",
       "2287   91   ST        ST  https://cdn.sofifa.com/players/188/545/20_120.png   \n",
       "2650   91   LW    LW CAM  https://cdn.sofifa.com/players/190/871/20_120.png   \n",
       "\n",
       "      ...     CDM   RDM   RWB    LB   LCB    CB   RCB    RB    GK Gender  \n",
       "752   ...    65+3  65+3  66+3  62+3  52+3  52+3  52+3  62+3  19+3   Male  \n",
       "142   ...    61+3  61+3  65+3  61+3  54+3  54+3  54+3  61+3  20+3   Male  \n",
       "2871  ...    80+3  80+3  79+3  75+3  69+3  69+3  69+3  75+3  21+3   Male  \n",
       "2287  ...    65+3  65+3  64+3  61+3  60+3  60+3  60+3  61+3  19+3   Male  \n",
       "2650  ...    62+3  62+3  67+3  62+3  49+3  49+3  49+3  62+3  20+3   Male  \n",
       "\n",
       "[5 rows x 107 columns]"
      ]
     },
     "execution_count": 83,
     "metadata": {},
     "output_type": "execute_result"
    }
   ],
   "source": [
    "''' Best 100 Players Sorted By Overall Rating '''\n",
    "\n",
    "best_players = df.sort_values('OVA',ascending = False).head(100)\n",
    "best_players.head()"
   ]
  },
  {
   "cell_type": "code",
   "execution_count": 85,
   "metadata": {},
   "outputs": [
    {
     "name": "stdout",
     "output_type": "stream",
     "text": [
      "There are 27 different Nationalities in FIFA 2021!\n"
     ]
    },
    {
     "data": {
      "image/png": "[encoded data removed]",
      "text/plain": [
       "<Figure size 432x288 with 1 Axes>"
      ]
     },
     "metadata": {
      "needs_background": "light"
     },
     "output_type": "display_data"
    }
   ],
   "source": [
    "''' Which Countries do Top FIFA Players come from?  '''\n",
    "\n",
    "nationality_vals = best_players['Nationality'].value_counts() #Provide a pandas series of the counts for each Nationality status\n",
    "\n",
    "print('There are {} different Nationalities in FIFA 2021!'.format(nationality_vals.count()))\n",
    "\n",
    "# The below should be a bar chart of the 10 largest population in the Top Players Nationality category \n",
    "\n",
    "(nationality_vals.nlargest(10)).plot(kind=\"bar\");\n",
    "plt.title(\"Where top 100 FIFA players are from?\");\n",
    "# print(nationality_vals)"
   ]
  },
  {
   "cell_type": "code",
   "execution_count": 87,
   "metadata": {},
   "outputs": [
    {
     "name": "stdout",
     "output_type": "stream",
     "text": [
      "There are 25 different clubs in FIFA 2021!\n"
     ]
    },
    {
     "data": {
      "image/png": "[encoded data removed]",
      "text/plain": [
       "<Figure size 432x288 with 1 Axes>"
      ]
     },
     "metadata": {
      "needs_background": "light"
     },
     "output_type": "display_data"
    }
   ],
   "source": [
    "''' Which teams has the best 100 FIFA players? '''\n",
    "\n",
    "club_vals = best_players['Club'].value_counts() #Provide a pandas series of the counts for each Team \n",
    "\n",
    "print('There are {} different clubs in FIFA 2021!'.format(club_vals.count()))\n",
    "\n",
    "# The below should be a bar chart of the proportion of individuals in each Nationality category \n",
    "\n",
    "club_vals.plot(kind=\"bar\");\n",
    "plt.title(\"Which teams has the best 100 FIFA players?\");\n",
    "# print(club_vals)"
   ]
  },
  {
   "cell_type": "code",
   "execution_count": 88,
   "metadata": {},
   "outputs": [
    {
     "name": "stdout",
     "output_type": "stream",
     "text": [
      "           ID      Name  Age  OVA Nationality         Club  BOV  BP Position  \\\n",
      "15737  254704  K. Miura   53   59       Japan  Yokohama FC   60  CF       ST   \n",
      "\n",
      "                                            Player Photo  ...     CDM   RDM  \\\n",
      "15737  https://cdn.sofifa.com/players/254/704/20_120.png  ...    37+2  37+2   \n",
      "\n",
      "        RWB    LB   LCB    CB   RCB    RB    GK Gender  \n",
      "15737  33+2  30+2  32+2  32+2  32+2  30+2  13+2   Male  \n",
      "\n",
      "[1 rows x 107 columns]\n",
      "           ID          Name  Age  OVA Nationality             Club  BOV   BP  \\\n",
      "13850  247025  T. Gulliksen   16   51      Norway  Strømsgodset IF   53  CAM   \n",
      "\n",
      "      Position                                       Player Photo  ...    \\\n",
      "13850       CM  https://cdn.sofifa.com/players/247/025/20_120.png  ...     \n",
      "\n",
      "        CDM   RDM   RWB    LB   LCB    CB   RCB    RB    GK Gender  \n",
      "13850  49+2  49+2  49+2  49+2  45+2  45+2  45+2  49+2  14+2   Male  \n",
      "\n",
      "[1 rows x 107 columns]\n"
     ]
    },
    {
     "data": {
      "image/png": "[encoded data removed]",
      "text/plain": [
       "<Figure size 432x288 with 1 Axes>"
      ]
     },
     "metadata": {
      "needs_background": "light"
     },
     "output_type": "display_data"
    }
   ],
   "source": [
    "''' \n",
    "    Find the Oldest and Youngest Players\n",
    "    This part was not added to the blog post because I didn't think it will add value to the post\n",
    "'''\n",
    "\n",
    "oldest = df.sort_values('Age',ascending=False).head(1)\n",
    "print(oldest)\n",
    "\n",
    "youngest = df.sort_values('Age',ascending=True).head(1)\n",
    "print(youngest)\n",
    "\n",
    "age = [['K. Miura', 53], ['T. Gulliksen', 16]]\n",
    "agedf = pd.DataFrame(age, columns=[\"Name\",\"Age\",])\n",
    "\n",
    "agedf.plot(x=\"Name\", y=\"Age\", kind=\"bar\");\n",
    "plt.show();"
   ]
  },
  {
   "cell_type": "code",
   "execution_count": 89,
   "metadata": {},
   "outputs": [
    {
     "name": "stdout",
     "output_type": "stream",
     "text": [
      "Right    12906\n",
      "Name: foot, dtype: int64\n",
      "Left    4219\n",
      "Name: foot, dtype: int64\n"
     ]
    },
    {
     "data": {
      "image/png": "[encoded data removed]",
      "text/plain": [
       "<Figure size 432x288 with 1 Axes>"
      ]
     },
     "metadata": {},
     "output_type": "display_data"
    }
   ],
   "source": [
    "''' Preferred Foot '''\n",
    "\n",
    "foot_vals = df['foot'].value_counts() #Provide a pandas series of the counts for each Preferred Foot\n",
    "\n",
    "# The below should be a pie chart of the proportion of individuals in each Nationality category \n",
    "\n",
    "(foot_vals).plot(kind=\"pie\");\n",
    "plt.title(\"Preferred Foot\");\n",
    "\n",
    "print(foot_vals.nlargest(1))\n",
    "print(foot_vals.nsmallest(1))"
   ]
  },
  {
   "cell_type": "code",
   "execution_count": null,
   "metadata": {},
   "outputs": [],
   "source": []
  }
 ],
 "metadata": {
  "kernelspec": {
   "display_name": "Python 3",
   "language": "python",
   "name": "python3"
  },
  "language_info": {
   "codemirror_mode": {
    "name": "ipython",
    "version": 3
   },
   "file_extension": ".py",
   "mimetype": "text/x-python",
   "name": "python",
   "nbconvert_exporter": "python",
   "pygments_lexer": "ipython3",
   "version": "3.7.0"
  }
 },
 "nbformat": 4,
 "nbformat_minor": 2
}
